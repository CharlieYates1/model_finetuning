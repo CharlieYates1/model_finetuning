{
 "cells": [
  {
   "cell_type": "code",
   "execution_count": 22,
   "id": "e00e250a",
   "metadata": {},
   "outputs": [
    {
     "name": "stderr",
     "output_type": "stream",
     "text": [
      "Some weights of ModernBertForSequenceClassification were not initialized from the model checkpoint at answerdotai/ModernBERT-base and are newly initialized: ['classifier.bias', 'classifier.weight']\n",
      "You should probably TRAIN this model on a down-stream task to be able to use it for predictions and inference.\n"
     ]
    }
   ],
   "source": [
    "from transformers import AutoTokenizer, AutoModelForSequenceClassification\n",
    "import torch\n",
    "\n",
    "import torch._dynamo\n",
    "torch._dynamo.config.suppress_errors = True\n",
    "torch._dynamo.disable()\n",
    "from datetime import datetime\n",
    "\n",
    "\n",
    "# choose device: GPU if available, else CPU\n",
    "device = torch.device(\"cuda\" if torch.cuda.is_available() else \"cpu\")\n",
    "\n",
    "model_name = \"answerdotai/ModernBERT-base\"\n",
    "tokenizer = AutoTokenizer.from_pretrained(model_name)\n",
    "model = AutoModelForSequenceClassification.from_pretrained(model_name, num_labels=4).to(device)"
   ]
  },
  {
   "cell_type": "code",
   "execution_count": 14,
   "id": "94d7db47",
   "metadata": {},
   "outputs": [
    {
     "name": "stdout",
     "output_type": "stream",
     "text": [
      "ignore tensor([[0.0097, 0.0099, 0.0267, 0.9537]])\n",
      "Time taken: 0:00:00.985909\n"
     ]
    }
   ],
   "source": [
    "torch.set_float32_matmul_precision(\"high\")  # optional speedup\n",
    "torch._dynamo.config.suppress_errors = True\n",
    "\n",
    "start_time = datetime.now()\n",
    "text = \"The user said wow!\"*1500 + \", what should I do?\"\n",
    "inputs = tokenizer(text, return_tensors=\"pt\").to(device)\n",
    "\n",
    "with torch.no_grad():\n",
    "    outputs = model(**inputs)\n",
    "    probs = torch.nn.functional.softmax(outputs.logits, dim=-1)\n",
    "probs = probs.detach().cpu()\n",
    "labels = [\"speak\", \"wait\", \"think\", \"ignore\"]\n",
    "predicted_label = labels[probs.argmax()]\n",
    "print(predicted_label, probs)\n",
    "print(f\"Time taken: {datetime.now() - start_time}\")\n"
   ]
  }
 ],
 "metadata": {
  "kernelspec": {
   "display_name": "finetuning",
   "language": "python",
   "name": "python3"
  },
  "language_info": {
   "codemirror_mode": {
    "name": "ipython",
    "version": 3
   },
   "file_extension": ".py",
   "mimetype": "text/x-python",
   "name": "python",
   "nbconvert_exporter": "python",
   "pygments_lexer": "ipython3",
   "version": "3.11.13"
  }
 },
 "nbformat": 4,
 "nbformat_minor": 5
}
